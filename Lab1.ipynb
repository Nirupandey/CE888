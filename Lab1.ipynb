{
  "nbformat": 4,
  "nbformat_minor": 0,
  "metadata": {
    "colab": {
      "name": "Lab1.ipynb",
      "provenance": [],
      "collapsed_sections": [],
      "authorship_tag": "ABX9TyO4dCAfd2YFi/6XhYloYAI3",
      "include_colab_link": true
    },
    "kernelspec": {
      "name": "python3",
      "display_name": "Python 3"
    }
  },
  "cells": [
    {
      "cell_type": "markdown",
      "metadata": {
        "id": "view-in-github",
        "colab_type": "text"
      },
      "source": [
        "<a href=\"https://colab.research.google.com/github/Nirupandey/CE888/blob/master/Lab1.ipynb\" target=\"_parent\"><img src=\"https://colab.research.google.com/assets/colab-badge.svg\" alt=\"Open In Colab\"/></a>"
      ]
    },
    {
      "cell_type": "code",
      "metadata": {
        "id": "dIa8iesmz9Lw",
        "colab_type": "code",
        "colab": {}
      },
      "source": [
        ""
      ],
      "execution_count": 0,
      "outputs": []
    },
    {
      "cell_type": "markdown",
      "metadata": {
        "id": "RdUQyeSg02Bv",
        "colab_type": "text"
      },
      "source": [
        "# Lab 1\n",
        "## first problem\n",
        "\n",
        "\n"
      ]
    },
    {
      "cell_type": "markdown",
      "metadata": {
        "id": "yiGhQA5w354y",
        "colab_type": "text"
      },
      "source": [
        ""
      ]
    },
    {
      "cell_type": "code",
      "metadata": {
        "id": "SmwrrwYJ3FaA",
        "colab_type": "code",
        "outputId": "f060b9b9-7d46-4328-f89b-ba5d31340817",
        "colab": {
          "base_uri": "https://localhost:8080/",
          "height": 85
        }
      },
      "source": [
        "import numpy as np\n",
        "a = np.array([[0,0],\n",
        "             [1,1],\n",
        "             [2,2],\n",
        "             [3,3]])\n",
        "print(a)"
      ],
      "execution_count": 0,
      "outputs": [
        {
          "output_type": "stream",
          "text": [
            "[[0 0]\n",
            " [1 1]\n",
            " [2 2]\n",
            " [3 3]]\n"
          ],
          "name": "stdout"
        }
      ]
    },
    {
      "cell_type": "markdown",
      "metadata": {
        "id": "pXehG3VB3DtY",
        "colab_type": "text"
      },
      "source": [
        ""
      ]
    },
    {
      "cell_type": "markdown",
      "metadata": {
        "id": "od8Kspyb3yFC",
        "colab_type": "text"
      },
      "source": [
        "## second problem\n"
      ]
    },
    {
      "cell_type": "code",
      "metadata": {
        "id": "tuoCvGN14Bya",
        "colab_type": "code",
        "colab": {}
      },
      "source": [
        "def ascending_sort(x):\n",
        "    for i in range(len(x)):\n",
        "        swap = i + np.argmin(x[i:])\n",
        "        (x[i], x[swap]) = (x[swap], x[i])\n",
        "    return x"
      ],
      "execution_count": 0,
      "outputs": []
    },
    {
      "cell_type": "code",
      "metadata": {
        "id": "U11o1t5Z5D6V",
        "colab_type": "code",
        "outputId": "fe067b17-5703-4905-b2dc-53efaa2ff2d4",
        "colab": {
          "base_uri": "https://localhost:8080/",
          "height": 34
        }
      },
      "source": [
        "b = np.array([5,2,7,4,0,6,2,8,9,1])\n",
        "print (b)"
      ],
      "execution_count": 0,
      "outputs": [
        {
          "output_type": "stream",
          "text": [
            "[5 2 7 4 0 6 2 8 9 1]\n"
          ],
          "name": "stdout"
        }
      ]
    },
    {
      "cell_type": "code",
      "metadata": {
        "id": "3u3_H-Xu5fDU",
        "colab_type": "code",
        "outputId": "a4e03c38-c1da-4bfe-aef1-90964f1bd5f5",
        "colab": {
          "base_uri": "https://localhost:8080/",
          "height": 34
        }
      },
      "source": [
        "ascending_sort(b)"
      ],
      "execution_count": 0,
      "outputs": [
        {
          "output_type": "execute_result",
          "data": {
            "text/plain": [
              "array([0, 1, 2, 2, 4, 5, 6, 7, 8, 9])"
            ]
          },
          "metadata": {
            "tags": []
          },
          "execution_count": 13
        }
      ]
    },
    {
      "cell_type": "code",
      "metadata": {
        "id": "8VNJPuYz6bXH",
        "colab_type": "code",
        "colab": {}
      },
      "source": [
        "def descending_sort(x):\n",
        "    for i in range(len(x)):\n",
        "        swap = i + np.argmax(x[i:])\n",
        "        (x[i], x[swap]) = (x[swap], x[i])\n",
        "    return x"
      ],
      "execution_count": 0,
      "outputs": []
    },
    {
      "cell_type": "code",
      "metadata": {
        "id": "0E637exv7o1J",
        "colab_type": "code",
        "outputId": "d705925b-ee10-4bbd-c73e-b3ed98a0cc47",
        "colab": {
          "base_uri": "https://localhost:8080/",
          "height": 34
        }
      },
      "source": [
        "descending_sort(b)"
      ],
      "execution_count": 0,
      "outputs": [
        {
          "output_type": "execute_result",
          "data": {
            "text/plain": [
              "array([9, 8, 7, 6, 5, 4, 2, 2, 1, 0])"
            ]
          },
          "metadata": {
            "tags": []
          },
          "execution_count": 23
        }
      ]
    },
    {
      "cell_type": "code",
      "metadata": {
        "id": "3SdsxlnR8HFL",
        "colab_type": "code",
        "outputId": "3e9e933a-886f-4254-c1f6-06d1d999fbb9",
        "colab": {
          "base_uri": "https://localhost:8080/",
          "height": 34
        }
      },
      "source": [
        "c = np.arange(10).reshape(1,10) \n",
        "print(c)"
      ],
      "execution_count": 0,
      "outputs": [
        {
          "output_type": "stream",
          "text": [
            "[[0 1 2 3 4 5 6 7 8 9]]\n"
          ],
          "name": "stdout"
        }
      ]
    },
    {
      "cell_type": "markdown",
      "metadata": {
        "id": "6PsFPPbD76aM",
        "colab_type": "text"
      },
      "source": [
        "##3rd problem"
      ]
    },
    {
      "cell_type": "code",
      "metadata": {
        "id": "1NXqSzTW79r5",
        "colab_type": "code",
        "outputId": "ab643fdc-6b3a-4d1b-b380-67d76a404098",
        "colab": {
          "base_uri": "https://localhost:8080/",
          "height": 34
        }
      },
      "source": [
        "x= np.array([1,2, 3, 4, 5, 6, 7, 8, 9])\n",
        "print(x)"
      ],
      "execution_count": 0,
      "outputs": [
        {
          "output_type": "stream",
          "text": [
            "[1 2 3 4 5 6 7 8 9]\n"
          ],
          "name": "stdout"
        }
      ]
    },
    {
      "cell_type": "code",
      "metadata": {
        "id": "YmGvI1Jf8j2v",
        "colab_type": "code",
        "outputId": "625086ab-bf0f-42dc-e220-35b79186880c",
        "colab": {
          "base_uri": "https://localhost:8080/",
          "height": 68
        }
      },
      "source": [
        "np.reshape(x, (3,3))"
      ],
      "execution_count": 0,
      "outputs": [
        {
          "output_type": "execute_result",
          "data": {
            "text/plain": [
              "array([[1, 2, 3],\n",
              "       [4, 5, 6],\n",
              "       [7, 8, 9]])"
            ]
          },
          "metadata": {
            "tags": []
          },
          "execution_count": 30
        }
      ]
    },
    {
      "cell_type": "markdown",
      "metadata": {
        "id": "Kw_KmTD59UNq",
        "colab_type": "text"
      },
      "source": [
        "##4th problem"
      ]
    },
    {
      "cell_type": "code",
      "metadata": {
        "id": "1g4G5oZL9Xei",
        "colab_type": "code",
        "outputId": "3a05ec7c-ecb8-4eaa-bbb8-d9562fe15288",
        "colab": {
          "base_uri": "https://localhost:8080/",
          "height": 34
        }
      },
      "source": [
        "a = ([1,2,3])\n",
        "b= ([9,8,7])\n",
        "np.hstack((a, b))        ## joining horizontally"
      ],
      "execution_count": 0,
      "outputs": [
        {
          "output_type": "execute_result",
          "data": {
            "text/plain": [
              "array([1, 2, 3, 9, 8, 7])"
            ]
          },
          "metadata": {
            "tags": []
          },
          "execution_count": 18
        }
      ]
    },
    {
      "cell_type": "code",
      "metadata": {
        "id": "Ku72zVvn-Yll",
        "colab_type": "code",
        "outputId": "e16c5c21-3cba-43a3-f3c0-025ee662c354",
        "colab": {
          "base_uri": "https://localhost:8080/",
          "height": 51
        }
      },
      "source": [
        "np.vstack((a, b))      ## joining vertically"
      ],
      "execution_count": 0,
      "outputs": [
        {
          "output_type": "execute_result",
          "data": {
            "text/plain": [
              "array([[1, 2, 3],\n",
              "       [9, 8, 7]])"
            ]
          },
          "metadata": {
            "tags": []
          },
          "execution_count": 17
        }
      ]
    },
    {
      "cell_type": "markdown",
      "metadata": {
        "id": "vtAlQKh1-0Wn",
        "colab_type": "text"
      },
      "source": [
        "## 5th problem"
      ]
    },
    {
      "cell_type": "code",
      "metadata": {
        "id": "ckj4M-Pq-2vW",
        "colab_type": "code",
        "outputId": "03d44eb5-112e-48a6-e090-5ddbfbc52cb2",
        "colab": {
          "base_uri": "https://localhost:8080/",
          "height": 153
        }
      },
      "source": [
        "a5 = np.arange(12).reshape(4,3)\n",
        "b5 = np.arange(12).reshape(4,3) + 5\n",
        "print('a5 = ' + str(a5))\n",
        "print('b5 = ' + str(b5))"
      ],
      "execution_count": 0,
      "outputs": [
        {
          "output_type": "stream",
          "text": [
            "a5 = [[ 0  1  2]\n",
            " [ 3  4  5]\n",
            " [ 6  7  8]\n",
            " [ 9 10 11]]\n",
            "b5 = [[ 5  6  7]\n",
            " [ 8  9 10]\n",
            " [11 12 13]\n",
            " [14 15 16]]\n"
          ],
          "name": "stdout"
        }
      ]
    },
    {
      "cell_type": "markdown",
      "metadata": {
        "id": "o4c9Ba50JArc",
        "colab_type": "text"
      },
      "source": [
        ""
      ]
    },
    {
      "cell_type": "code",
      "metadata": {
        "id": "fKVnWE9Az1l7",
        "colab_type": "code",
        "outputId": "d327346e-34d0-4ed7-d85b-bbc802a643f6",
        "colab": {
          "base_uri": "https://localhost:8080/",
          "height": 34
        }
      },
      "source": [
        "np.reshape(a5, (1, 12))\n",
        "np.reshape(b5, (1, 12))"
      ],
      "execution_count": 0,
      "outputs": [
        {
          "output_type": "execute_result",
          "data": {
            "text/plain": [
              "array([[ 5,  6,  7,  8,  9, 10, 11, 12, 13, 14, 15, 16]])"
            ]
          },
          "metadata": {
            "tags": []
          },
          "execution_count": 8
        }
      ]
    },
    {
      "cell_type": "code",
      "metadata": {
        "id": "M-5rlQ2u05QH",
        "colab_type": "code",
        "outputId": "0632e4c9-c7ab-407f-fb04-0777f595dd68",
        "colab": {
          "base_uri": "https://localhost:8080/",
          "height": 34
        }
      },
      "source": [
        "np.intersect1d(a5, b5)"
      ],
      "execution_count": 0,
      "outputs": [
        {
          "output_type": "execute_result",
          "data": {
            "text/plain": [
              "array([ 5,  6,  7,  8,  9, 10, 11])"
            ]
          },
          "metadata": {
            "tags": []
          },
          "execution_count": 9
        }
      ]
    },
    {
      "cell_type": "markdown",
      "metadata": {
        "id": "7Fl6kc0EJB6N",
        "colab_type": "text"
      },
      "source": [
        "##6th problem"
      ]
    },
    {
      "cell_type": "code",
      "metadata": {
        "id": "5EIo3cPtJEUu",
        "colab_type": "code",
        "outputId": "3dacc822-35b0-47dd-cd85-e2150520594b",
        "colab": {
          "base_uri": "https://localhost:8080/",
          "height": 102
        }
      },
      "source": [
        "a6= np.arange(25).reshape(5,5)\n",
        "print (a6)"
      ],
      "execution_count": 0,
      "outputs": [
        {
          "output_type": "stream",
          "text": [
            "[[ 0  1  2  3  4]\n",
            " [ 5  6  7  8  9]\n",
            " [10 11 12 13 14]\n",
            " [15 16 17 18 19]\n",
            " [20 21 22 23 24]]\n"
          ],
          "name": "stdout"
        }
      ]
    },
    {
      "cell_type": "code",
      "metadata": {
        "id": "ew2aXg3kJwFh",
        "colab_type": "code",
        "outputId": "1f1672bc-ca5e-41c9-9953-bc545a370e0f",
        "colab": {
          "base_uri": "https://localhost:8080/",
          "height": 34
        }
      },
      "source": [
        "c_max = np.amax(a6, axis =0)\n",
        "print(c_max )"
      ],
      "execution_count": 0,
      "outputs": [
        {
          "output_type": "stream",
          "text": [
            "[20 21 22 23 24]\n"
          ],
          "name": "stdout"
        }
      ]
    },
    {
      "cell_type": "code",
      "metadata": {
        "id": "ztfd7MklNN6W",
        "colab_type": "code",
        "outputId": "8221f7ae-f4be-4986-8484-709db2a48876",
        "colab": {
          "base_uri": "https://localhost:8080/",
          "height": 34
        }
      },
      "source": [
        "c_min = np.amin(a6, axis =0)\n",
        "print(c_min )"
      ],
      "execution_count": 0,
      "outputs": [
        {
          "output_type": "stream",
          "text": [
            "[0 1 2 3 4]\n"
          ],
          "name": "stdout"
        }
      ]
    },
    {
      "cell_type": "code",
      "metadata": {
        "id": "TAIAHRWbNTQe",
        "colab_type": "code",
        "outputId": "d099ffe1-892f-4831-9020-3d1b87ce4c99",
        "colab": {
          "base_uri": "https://localhost:8080/",
          "height": 34
        }
      },
      "source": [
        "r_max = np.amax(a6, axis =1)\n",
        "print(r_max )"
      ],
      "execution_count": 0,
      "outputs": [
        {
          "output_type": "stream",
          "text": [
            "[ 4  9 14 19 24]\n"
          ],
          "name": "stdout"
        }
      ]
    },
    {
      "cell_type": "code",
      "metadata": {
        "id": "AAmOrKJdNXCH",
        "colab_type": "code",
        "outputId": "477aee57-44bd-4bc2-d2ef-edd48b00c064",
        "colab": {
          "base_uri": "https://localhost:8080/",
          "height": 34
        }
      },
      "source": [
        "r_min = np.amin(a6, axis =0)\n",
        "print(r_min )"
      ],
      "execution_count": 0,
      "outputs": [
        {
          "output_type": "stream",
          "text": [
            "[0 1 2 3 4]\n"
          ],
          "name": "stdout"
        }
      ]
    },
    {
      "cell_type": "markdown",
      "metadata": {
        "id": "ryfzzaOiNdUu",
        "colab_type": "text"
      },
      "source": [
        "##7th problem"
      ]
    },
    {
      "cell_type": "code",
      "metadata": {
        "id": "t-1ZYaYqNhfA",
        "colab_type": "code",
        "outputId": "1c09ccae-6452-48a2-a222-3cc2a01999cf",
        "colab": {
          "base_uri": "https://localhost:8080/",
          "height": 102
        }
      },
      "source": [
        "a7 = np.arange(100)\n",
        "print(a7)"
      ],
      "execution_count": 0,
      "outputs": [
        {
          "output_type": "stream",
          "text": [
            "[ 0  1  2  3  4  5  6  7  8  9 10 11 12 13 14 15 16 17 18 19 20 21 22 23\n",
            " 24 25 26 27 28 29 30 31 32 33 34 35 36 37 38 39 40 41 42 43 44 45 46 47\n",
            " 48 49 50 51 52 53 54 55 56 57 58 59 60 61 62 63 64 65 66 67 68 69 70 71\n",
            " 72 73 74 75 76 77 78 79 80 81 82 83 84 85 86 87 88 89 90 91 92 93 94 95\n",
            " 96 97 98 99]\n"
          ],
          "name": "stdout"
        }
      ]
    },
    {
      "cell_type": "code",
      "metadata": {
        "id": "Uc7eNzg7N5bf",
        "colab_type": "code",
        "outputId": "9da3e4cb-8ed5-4f83-b826-43bac0a91a0c",
        "colab": {
          "base_uri": "https://localhost:8080/",
          "height": 34
        }
      },
      "source": [
        "np.mean(a7)"
      ],
      "execution_count": 0,
      "outputs": [
        {
          "output_type": "execute_result",
          "data": {
            "text/plain": [
              "49.5"
            ]
          },
          "metadata": {
            "tags": []
          },
          "execution_count": 11
        }
      ]
    },
    {
      "cell_type": "code",
      "metadata": {
        "id": "4OzIwdkpQ6lo",
        "colab_type": "code",
        "outputId": "be3f8416-52a6-46ea-fcbd-d39f3948d327",
        "colab": {
          "base_uri": "https://localhost:8080/",
          "height": 34
        }
      },
      "source": [
        "np.median(a7)"
      ],
      "execution_count": 0,
      "outputs": [
        {
          "output_type": "execute_result",
          "data": {
            "text/plain": [
              "49.5"
            ]
          },
          "metadata": {
            "tags": []
          },
          "execution_count": 12
        }
      ]
    },
    {
      "cell_type": "code",
      "metadata": {
        "id": "Cq9UofZGQ9cx",
        "colab_type": "code",
        "outputId": "31d8e633-1920-44c1-9592-290a37b781cf",
        "colab": {
          "base_uri": "https://localhost:8080/",
          "height": 34
        }
      },
      "source": [
        "np.std(a7)"
      ],
      "execution_count": 0,
      "outputs": [
        {
          "output_type": "execute_result",
          "data": {
            "text/plain": [
              "28.86607004772212"
            ]
          },
          "metadata": {
            "tags": []
          },
          "execution_count": 13
        }
      ]
    },
    {
      "cell_type": "markdown",
      "metadata": {
        "id": "BR4iCVcdOaO5",
        "colab_type": "text"
      },
      "source": [
        "##8th problem"
      ]
    },
    {
      "cell_type": "code",
      "metadata": {
        "id": "v9UwxYzfOdFC",
        "colab_type": "code",
        "colab": {}
      },
      "source": [
        "from numpy import linalg as LA"
      ],
      "execution_count": 0,
      "outputs": []
    },
    {
      "cell_type": "code",
      "metadata": {
        "id": "-_flfqNoO7WB",
        "colab_type": "code",
        "outputId": "5a908881-137d-44de-c2d6-c2f554292b76",
        "colab": {
          "base_uri": "https://localhost:8080/",
          "height": 85
        }
      },
      "source": [
        "print(a5)"
      ],
      "execution_count": 0,
      "outputs": [
        {
          "output_type": "stream",
          "text": [
            "[[ 0  1  2]\n",
            " [ 3  4  5]\n",
            " [ 6  7  8]\n",
            " [ 9 10 11]]\n"
          ],
          "name": "stdout"
        }
      ]
    },
    {
      "cell_type": "code",
      "metadata": {
        "id": "URtQ-PKQPBrA",
        "colab_type": "code",
        "outputId": "e39318be-28a9-4d25-a7cf-c9615f67fe12",
        "colab": {
          "base_uri": "https://localhost:8080/",
          "height": 34
        }
      },
      "source": [
        "LA.norm(a5)"
      ],
      "execution_count": 0,
      "outputs": [
        {
          "output_type": "execute_result",
          "data": {
            "text/plain": [
              "22.494443758403985"
            ]
          },
          "metadata": {
            "tags": []
          },
          "execution_count": 115
        }
      ]
    },
    {
      "cell_type": "markdown",
      "metadata": {
        "id": "hKAkmiLZ01KS",
        "colab_type": "text"
      },
      "source": [
        ""
      ]
    },
    {
      "cell_type": "markdown",
      "metadata": {
        "id": "uurHftbTRBzB",
        "colab_type": "text"
      },
      "source": [
        "## 9th problem"
      ]
    },
    {
      "cell_type": "code",
      "metadata": {
        "id": "yqLsbdFOREdy",
        "colab_type": "code",
        "outputId": "de7a114b-e906-406b-d2de-d0d68e31dc32",
        "colab": {
          "base_uri": "https://localhost:8080/",
          "height": 289
        }
      },
      "source": [
        "a9= np.arange(48).reshape(16,3) +1\n",
        "print(a9)"
      ],
      "execution_count": 0,
      "outputs": [
        {
          "output_type": "stream",
          "text": [
            "[[ 1  2  3]\n",
            " [ 4  5  6]\n",
            " [ 7  8  9]\n",
            " [10 11 12]\n",
            " [13 14 15]\n",
            " [16 17 18]\n",
            " [19 20 21]\n",
            " [22 23 24]\n",
            " [25 26 27]\n",
            " [28 29 30]\n",
            " [31 32 33]\n",
            " [34 35 36]\n",
            " [37 38 39]\n",
            " [40 41 42]\n",
            " [43 44 45]\n",
            " [46 47 48]]\n"
          ],
          "name": "stdout"
        }
      ]
    },
    {
      "cell_type": "code",
      "metadata": {
        "id": "htLBZUU-6hA6",
        "colab_type": "code",
        "outputId": "cf96e46f-4426-450c-deb1-656e97f10f46",
        "colab": {
          "base_uri": "https://localhost:8080/",
          "height": 238
        }
      },
      "source": [
        "b9 = np.vsplit(a9,4)\n",
        "print(b9)"
      ],
      "execution_count": 0,
      "outputs": [
        {
          "output_type": "stream",
          "text": [
            "[array([[ 1,  2,  3],\n",
            "       [ 4,  5,  6],\n",
            "       [ 7,  8,  9],\n",
            "       [10, 11, 12]]), array([[13, 14, 15],\n",
            "       [16, 17, 18],\n",
            "       [19, 20, 21],\n",
            "       [22, 23, 24]]), array([[25, 26, 27],\n",
            "       [28, 29, 30],\n",
            "       [31, 32, 33],\n",
            "       [34, 35, 36]]), array([[37, 38, 39],\n",
            "       [40, 41, 42],\n",
            "       [43, 44, 45],\n",
            "       [46, 47, 48]])]\n"
          ],
          "name": "stdout"
        }
      ]
    },
    {
      "cell_type": "code",
      "metadata": {
        "id": "kqcm8FjU6g97",
        "colab_type": "code",
        "outputId": "f8f37c1d-e680-4a1e-9bd7-aa3ea3fb5a24",
        "colab": {
          "base_uri": "https://localhost:8080/",
          "height": 163
        }
      },
      "source": [
        "b9.shape"
      ],
      "execution_count": 0,
      "outputs": [
        {
          "output_type": "error",
          "ename": "AttributeError",
          "evalue": "ignored",
          "traceback": [
            "\u001b[0;31m---------------------------------------------------------------------------\u001b[0m",
            "\u001b[0;31mAttributeError\u001b[0m                            Traceback (most recent call last)",
            "\u001b[0;32m<ipython-input-41-cbdf79d3bfab>\u001b[0m in \u001b[0;36m<module>\u001b[0;34m()\u001b[0m\n\u001b[0;32m----> 1\u001b[0;31m \u001b[0mb9\u001b[0m\u001b[0;34m.\u001b[0m\u001b[0mshape\u001b[0m\u001b[0;34m\u001b[0m\u001b[0;34m\u001b[0m\u001b[0m\n\u001b[0m",
            "\u001b[0;31mAttributeError\u001b[0m: 'list' object has no attribute 'shape'"
          ]
        }
      ]
    }
  ]
}